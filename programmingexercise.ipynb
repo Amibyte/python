{
  "nbformat": 4,
  "nbformat_minor": 0,
  "metadata": {
    "colab": {
      "name": "programmingexercise.ipynb",
      "provenance": [],
      "authorship_tag": "ABX9TyPAANlItreaQuy45V7i8UQf",
      "include_colab_link": true
    },
    "kernelspec": {
      "name": "python3",
      "display_name": "Python 3"
    }
  },
  "cells": [
    {
      "cell_type": "markdown",
      "metadata": {
        "id": "view-in-github",
        "colab_type": "text"
      },
      "source": [
        "<a href=\"https://colab.research.google.com/github/Amibyte/python/blob/master/programmingexercise.ipynb\" target=\"_parent\"><img src=\"https://colab.research.google.com/assets/colab-badge.svg\" alt=\"Open In Colab\"/></a>"
      ]
    },
    {
      "cell_type": "markdown",
      "metadata": {
        "id": "9-EX_dJ3dTwe"
      },
      "source": [
        ""
      ]
    },
    {
      "cell_type": "markdown",
      "metadata": {
        "id": "X3H6XzGa2UIn"
      },
      "source": [
        "1. Write a python code to get largest number from a list"
      ]
    },
    {
      "cell_type": "code",
      "metadata": {
        "id": "cc0UoZyE3Jhe",
        "outputId": "d0b66382-13e5-4aa7-823a-07107c8c8775",
        "colab": {
          "base_uri": "https://localhost:8080/",
          "height": 35
        }
      },
      "source": [
        "def largeno(l):\n",
        "  l.sort()\n",
        "  return l[-1]\n",
        "print(largeno([1,9,4,3,7,2]))"
      ],
      "execution_count": null,
      "outputs": [
        {
          "output_type": "stream",
          "text": [
            "9\n"
          ],
          "name": "stdout"
        }
      ]
    },
    {
      "cell_type": "markdown",
      "metadata": {
        "id": "PYy2HhGV35cu"
      },
      "source": [
        "2. write a python code to search an element in the list"
      ]
    },
    {
      "cell_type": "code",
      "metadata": {
        "id": "Q6fExeop4C44",
        "outputId": "026fc525-ca72-40e2-e4b8-45223a9e79a4",
        "colab": {
          "base_uri": "https://localhost:8080/",
          "height": 52
        }
      },
      "source": [
        "def search(l,k):\n",
        "  l.count(k)\n",
        "  if l.count(k) >= 1:\n",
        "    return True\n",
        "  return False\n",
        "print(search([1,2,5,7],7))\n",
        "print(search([4,5,6],7))\n"
      ],
      "execution_count": 18,
      "outputs": [
        {
          "output_type": "stream",
          "text": [
            "True\n",
            "False\n"
          ],
          "name": "stdout"
        }
      ]
    },
    {
      "cell_type": "markdown",
      "metadata": {
        "id": "_w4r5m688hn7"
      },
      "source": [
        "3. write a python program to sum all the elements in the list"
      ]
    },
    {
      "cell_type": "code",
      "metadata": {
        "id": "xXrn4kC880uJ",
        "outputId": "c9ae72d8-80ec-45cd-ae1c-db38278e12af",
        "colab": {
          "base_uri": "https://localhost:8080/",
          "height": 35
        }
      },
      "source": [
        "import functools\n",
        "list1 = [9,8,3]\n",
        "print(functools.reduce (lambda s,i:s+i, list1 ))\n",
        "\n"
      ],
      "execution_count": null,
      "outputs": [
        {
          "output_type": "stream",
          "text": [
            "20\n"
          ],
          "name": "stdout"
        }
      ]
    },
    {
      "cell_type": "markdown",
      "metadata": {
        "id": "GqAgnyGgGRH-"
      },
      "source": [
        "4. write python program to remove all the duplicates from the list.\n"
      ]
    },
    {
      "cell_type": "code",
      "metadata": {
        "id": "Ff1nJ2kbeXkn",
        "outputId": "959c36d1-8671-4ff6-b553-0aa1237b46a5",
        "colab": {
          "base_uri": "https://localhost:8080/",
          "height": 35
        }
      },
      "source": [
        "list2 = [1,2,2,3,4,4,5]\n",
        "b1 = []\n",
        "for x in list2:\n",
        "  if x not in b1:\n",
        "    b1.append(x)\n",
        "print(b1)"
      ],
      "execution_count": 15,
      "outputs": [
        {
          "output_type": "stream",
          "text": [
            "[1, 2, 3, 4, 5]\n"
          ],
          "name": "stdout"
        }
      ]
    },
    {
      "cell_type": "markdown",
      "metadata": {
        "id": "zHlML_CIes6r"
      },
      "source": [
        "5. write a python function that takes two lists and returns true if they have atleast one common member"
      ]
    },
    {
      "cell_type": "code",
      "metadata": {
        "id": "VcfJM4a4e6Q3",
        "outputId": "e9580d20-4324-46de-acc6-a1968551cc73",
        "colab": {
          "base_uri": "https://localhost:8080/",
          "height": 52
        }
      },
      "source": [
        "def common(b,c):\n",
        "  for x in a:\n",
        "    for y in b:\n",
        "      if x==y:\n",
        "        return True\n",
        "  return False\n",
        "print(common([1,2,5,6],[7,6,3,8]))\n",
        "print(common([8,7,9],[1,2,3]))\n",
        "\n"
      ],
      "execution_count": 16,
      "outputs": [
        {
          "output_type": "stream",
          "text": [
            "True\n",
            "False\n"
          ],
          "name": "stdout"
        }
      ]
    },
    {
      "cell_type": "markdown",
      "metadata": {
        "id": "F5EMHlChe7L1"
      },
      "source": [
        "6. write a program to append a list to second list"
      ]
    },
    {
      "cell_type": "code",
      "metadata": {
        "id": "fwSQDsUlfEp0",
        "outputId": "6498ba61-703a-423c-bda6-58c3db6b08b8",
        "colab": {
          "base_uri": "https://localhost:8080/",
          "height": 35
        }
      },
      "source": [
        "a = [1,2,3,4]\n",
        "b = [5,6,7,8]\n",
        "a.extend(b)\n",
        "print(a)"
      ],
      "execution_count": 20,
      "outputs": [
        {
          "output_type": "stream",
          "text": [
            "[1, 2, 3, 4, 5, 6, 7, 8]\n"
          ],
          "name": "stdout"
        }
      ]
    },
    {
      "cell_type": "markdown",
      "metadata": {
        "id": "kOJPqqqIfsgn"
      },
      "source": [
        "7. write a program to check if a no if composite or not"
      ]
    },
    {
      "cell_type": "code",
      "metadata": {
        "id": "cRdEeJmof87D",
        "outputId": "7cf2282e-d8e7-4b74-9772-5937de18a883",
        "colab": {
          "base_uri": "https://localhost:8080/",
          "height": 52
        }
      },
      "source": [
        "n = int(input())\n",
        "count = 0\n",
        "for i in range(1,n):\n",
        "  if n%i == 0:\n",
        "    count +=1\n",
        "if count > 1:\n",
        "  print('Number is composite')\n",
        "elif n ==1:\n",
        "  print(\"number is neither prime nor composite\")\n",
        "else:\n",
        "  print('number is not composite')"
      ],
      "execution_count": 29,
      "outputs": [
        {
          "output_type": "stream",
          "text": [
            "24\n",
            "Number is composite\n"
          ],
          "name": "stdout"
        }
      ]
    },
    {
      "cell_type": "markdown",
      "metadata": {
        "id": "rUDw5BoUf-V8"
      },
      "source": [
        "8. write a program to add two matrices using list"
      ]
    },
    {
      "cell_type": "code",
      "metadata": {
        "id": "pivkvkDcjNBm",
        "outputId": "07eb4bf0-4a0f-4678-f99e-afcc19b2d371",
        "colab": {
          "base_uri": "https://localhost:8080/",
          "height": 35
        }
      },
      "source": [
        "d = [[12,7,5],[4,5,6],[7,7,9]]\n",
        "o = [[5,9,1],[6,9,3],[4,9,9]]\n",
        "\n",
        "r = [[0,0,0],  [0,0,0],  [0,0,0]]\n",
        "\n",
        "for i in range(len(d)):\n",
        "   for j in range(len(d[0])):\n",
        "       r[i][j] = d[i][j] + o[i][j]\n",
        "print(\"sum = \",r)"
      ],
      "execution_count": 30,
      "outputs": [
        {
          "output_type": "stream",
          "text": [
            "sum =  [[17, 16, 6], [10, 14, 9], [11, 16, 18]]\n"
          ],
          "name": "stdout"
        }
      ]
    },
    {
      "cell_type": "markdown",
      "metadata": {
        "id": "MJ8GCWelgABX"
      },
      "source": [
        "9. write a program to check if string is palindrome or not."
      ]
    },
    {
      "cell_type": "code",
      "metadata": {
        "id": "1jH-7lXegA6p",
        "outputId": "5188695a-c37d-4d1f-9b54-21f1c5c3836d",
        "colab": {
          "base_uri": "https://localhost:8080/",
          "height": 69
        }
      },
      "source": [
        "word = input()\n",
        "w =''\n",
        "for x in range(1,len(word)+1):\n",
        "  w = w + word[-x]\n",
        "print(w)\n",
        "if w == word:\n",
        "  print('palindrome')\n",
        "else:\n",
        "  print(\"not a palindrome\")\n",
        "\n",
        "  "
      ],
      "execution_count": 41,
      "outputs": [
        {
          "output_type": "stream",
          "text": [
            "malayalam\n",
            "malayalam\n",
            "palindrome\n"
          ],
          "name": "stdout"
        }
      ]
    },
    {
      "cell_type": "markdown",
      "metadata": {
        "id": "MoLbiNfXgBrg"
      },
      "source": [
        "10. write a program to print multiplication table of a number"
      ]
    },
    {
      "cell_type": "code",
      "metadata": {
        "id": "ny_meJtmjzDZ",
        "outputId": "4e2e7111-4a79-43e4-a98c-69887d00c627",
        "colab": {
          "base_uri": "https://localhost:8080/",
          "height": 208
        }
      },
      "source": [
        "def multi(x,i):\n",
        "  return x*i\n",
        "x = int(input())\n",
        "for i in range(1,11):\n",
        "  print(multi(x,i))\n",
        "\n",
        "\n"
      ],
      "execution_count": 13,
      "outputs": [
        {
          "output_type": "stream",
          "text": [
            "4\n",
            "4\n",
            "8\n",
            "12\n",
            "16\n",
            "20\n",
            "24\n",
            "28\n",
            "32\n",
            "36\n",
            "40\n"
          ],
          "name": "stdout"
        }
      ]
    }
  ]
}